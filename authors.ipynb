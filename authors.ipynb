{
 "cells": [
  {
   "cell_type": "code",
   "execution_count": 23,
   "metadata": {},
   "outputs": [],
   "source": [
    "import winsound as ws\n",
    "import numpy as np \n",
    "import pandas as pd\n",
    "import matplotlib.pyplot as plt\n",
    "import seaborn as sns\n",
    "plt.style.use('fivethirtyeight')\n",
    "import warnings\n",
    "warnings.filterwarnings('ignore')\n",
    "%matplotlib inline\n",
    "from bs4 import BeautifulSoup\n",
    "import requests\n",
    "import cv2\n",
    "from sklearn.cluster import KMeans"
   ]
  },
  {
   "cell_type": "code",
   "execution_count": 24,
   "metadata": {},
   "outputs": [],
   "source": [
    "alldata = pd.read_csv(\"dataset\\\\finals\\\\complissivolibricongenere.csv\")"
   ]
  },
  {
   "cell_type": "code",
   "execution_count": 31,
   "metadata": {},
   "outputs": [
    {
     "data": {
      "text/plain": [
       "James Patterson               98\n",
       "Stephen King                  79\n",
       "Nora Roberts                  61\n",
       "Dean Koontz                   51\n",
       "Terry Pratchett               48\n",
       "Agatha Christie               42\n",
       "J.D. Robb                     39\n",
       "Janet Evanovich               37\n",
       "Meg Cabot                     37\n",
       "Neil Gaiman                   34\n",
       "David Baldacci                34\n",
       "John Grisham                  34\n",
       "Laurell K. Hamilton           31\n",
       "Michael Connelly              29\n",
       "John Sandford                 27\n",
       "Kristen Ashley                26\n",
       "Tamora Pierce                 26\n",
       "Rick Riordan                  26\n",
       "Anne Rice                     26\n",
       "Sherrilyn Kenyon              25\n",
       "Patricia Cornwell             25\n",
       "Jim Butcher                   25\n",
       "Harlan Coben                  25\n",
       "Jodi Picoult                  24\n",
       "William Shakespeare           24\n",
       "Lee Child                     24\n",
       "Sue Grafton                   24\n",
       "Douglas Preston               23\n",
       "Brandon Sanderson             22\n",
       "Abbi Glines                   22\n",
       "                              ..\n",
       "Colleen Oakley                 1\n",
       "Andy Cohen                     1\n",
       "Willard F. Harley Jr.          1\n",
       "David McRaney                  1\n",
       "Vikas Swarup                   1\n",
       "Natsumi Ando                   1\n",
       "Thomas More                    1\n",
       "Martha Stout                   1\n",
       "Foundation for Inner Peace     1\n",
       "William Peter Blatty           1\n",
       "Jerry Bridges                  1\n",
       "Jordan Sonnenblick             1\n",
       "Ford Madox Ford                1\n",
       "Robin Oliveira                 1\n",
       "Robin Furth                    1\n",
       "Slavomir Rawicz                1\n",
       "Elizabeth  Smart               1\n",
       "Robert  Beatty                 1\n",
       "Lynley Dodd                    1\n",
       "Myra McEntire                  1\n",
       "Ralph Ellison                  1\n",
       "Gilles Néret                   1\n",
       "Siddhartha Mukherjee           1\n",
       "Poppy Z. Brite                 1\n",
       "Charlie LeDuff                 1\n",
       "Anne Enright                   1\n",
       "Edith Hamilton                 1\n",
       "Aimee Bender                   1\n",
       "A.L. Singer                    1\n",
       "Charles Burns                  1\n",
       "Name: authors, Length: 3756, dtype: int64"
      ]
     },
     "execution_count": 31,
     "metadata": {},
     "output_type": "execute_result"
    }
   ],
   "source": [
    "alldata = alldata[[\"authors\", \"discreteauthors\", \"genderclass\", \"gendernames\", \"original_publication_year\"]]\n",
    "alldata[\"authors\"].value_counts()"
   ]
  },
  {
   "cell_type": "code",
   "execution_count": null,
   "metadata": {},
   "outputs": [],
   "source": []
  }
 ],
 "metadata": {
  "kernelspec": {
   "display_name": "Python 3",
   "language": "python",
   "name": "python3"
  },
  "language_info": {
   "codemirror_mode": {
    "name": "ipython",
    "version": 3
   },
   "file_extension": ".py",
   "mimetype": "text/x-python",
   "name": "python",
   "nbconvert_exporter": "python",
   "pygments_lexer": "ipython3",
   "version": "3.6.4"
  }
 },
 "nbformat": 4,
 "nbformat_minor": 2
}
